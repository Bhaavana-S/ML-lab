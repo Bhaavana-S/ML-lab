{
 "cells": [
  {
   "cell_type": "code",
   "execution_count": 1,
   "metadata": {
    "colab": {
     "base_uri": "https://localhost:8080/"
    },
    "id": "XiHdhkOZTMMG",
    "outputId": "4c4c20e3-80dd-4383-d7b8-7263d44ef9e4"
   },
   "outputs": [
    {
     "name": "stdout",
     "output_type": "stream",
     "text": [
      "(8, 1)\n"
     ]
    }
   ],
   "source": [
    "import pandas as pd\n",
    "sports = pd.read_csv(\"Seeds.csv\", sep=\"\\t\",header=None)\n",
    "print(sports.shape)"
   ]
  },
  {
   "cell_type": "code",
   "execution_count": 2,
   "metadata": {
    "colab": {
     "base_uri": "https://localhost:8080/"
    },
    "id": "2cSunjSlUHqe",
    "outputId": "23a27ac3-9f76-4e9f-e63b-63253a43539b"
   },
   "outputs": [
    {
     "name": "stdout",
     "output_type": "stream",
     "text": [
      "                                             0\n",
      "0  Color,Toughness,Fungus,Appearance,Poisonous\n",
      "1                   Green,Hard,No,Wrinkled,Yes\n",
      "2                     Green,Hard,Yes,Smooth,No\n",
      "3                    Brown,Soft,No,Wrinkled,No\n",
      "4                  Orange,Hard,No,Wrinkled,Yes\n",
      "5                    Green,Soft,Yes,Smooth,Yes\n",
      "6                  Green,Hard,Yes,Wrinkled,Yes\n",
      "7                  Orange,Hard,No,Wrinkled,Yes\n",
      "0    8\n",
      "dtype: int64\n"
     ]
    }
   ],
   "source": [
    "print(sports)\n",
    "print(sports.count())"
   ]
  },
  {
   "cell_type": "code",
   "execution_count": 3,
   "metadata": {
    "colab": {
     "base_uri": "https://localhost:8080/"
    },
    "id": "s8GgTxr2UpWF",
    "outputId": "0c615b04-6758-4a41-e691-f7b174e259a2"
   },
   "outputs": [
    {
     "name": "stdout",
     "output_type": "stream",
     "text": [
      "[['sky', 'airtemp', 'humidity', 'wind', 'water', 'forcast', 'enjoysport'], ['sunny', 'warm', 'normal', 'strong', 'warm', 'same', 'yes'], ['sunny', 'warm', 'high', 'strong', 'warm', 'same', 'yes'], ['rainy', 'cold', 'high', 'strong', 'warm', 'change', 'no'], ['sunny', 'warm', 'high', 'strong', 'cool', 'change', 'yes']]\n"
     ]
    }
   ],
   "source": [
    "import csv\n",
    "a=[]\n",
    "with open(\"enjoysport.csv\") as csvfile:\n",
    "    for row in csv.reader(csvfile):\n",
    "        a.append(row)\n",
    "print(a)"
   ]
  },
  {
   "cell_type": "code",
   "execution_count": 4,
   "metadata": {
    "colab": {
     "base_uri": "https://localhost:8080/"
    },
    "id": "4DCVTyYjVmDm",
    "outputId": "be46d836-f334-4c03-a6d2-71d669f7fac3"
   },
   "outputs": [
    {
     "name": "stdout",
     "output_type": "stream",
     "text": [
      "\n",
      " The total number of training instances are :  5\n"
     ]
    }
   ],
   "source": [
    "# To display the total number of records in a file\n",
    "print(\"\\n The total number of training instances are : \",len(a))\n"
   ]
  },
  {
   "cell_type": "code",
   "execution_count": 5,
   "metadata": {
    "colab": {
     "base_uri": "https://localhost:8080/"
    },
    "id": "Px5AvNzwVoIj",
    "outputId": "e6b23945-fa08-41d3-fe5d-8bae61b1dd0a"
   },
   "outputs": [
    {
     "name": "stdout",
     "output_type": "stream",
     "text": [
      "\n",
      " The initial hypothesis is : \n",
      "['pi', 'pi', 'pi', 'pi', 'pi', 'pi']\n"
     ]
    }
   ],
   "source": [
    "# the number of attributes (Except the target variable)\n",
    "num_attribute = len(a[0])-1\n",
    " \n",
    "# To display the initial hypothesis\n",
    "print(\"\\n The initial hypothesis is : \")\n",
    "hypothesis = ['pi']*num_attribute\n",
    "print(hypothesis)"
   ]
  },
  {
   "cell_type": "code",
   "execution_count": 6,
   "metadata": {
    "colab": {
     "base_uri": "https://localhost:8080/"
    },
    "id": "-_csVXrhVusO",
    "outputId": "a7179fc6-1d79-4c95-bd19-690309fa192c"
   },
   "outputs": [
    {
     "name": "stdout",
     "output_type": "stream",
     "text": [
      "\n",
      " The hypothesis for the training instance 1 is : \n",
      " ['pi', 'pi', 'pi', 'pi', 'pi', 'pi']\n",
      "\n",
      " The hypothesis for the training instance 2 is : \n",
      " ['sunny', 'warm', 'normal', 'strong', 'warm', 'same']\n",
      "\n",
      " The hypothesis for the training instance 3 is : \n",
      " ['sunny', 'warm', '?', 'strong', 'warm', 'same']\n",
      "\n",
      " The hypothesis for the training instance 4 is : \n",
      " ['sunny', 'warm', '?', 'strong', 'warm', 'same']\n",
      "\n",
      " The hypothesis for the training instance 5 is : \n",
      " ['sunny', 'warm', '?', 'strong', '?', '?']\n",
      "\n",
      " The Maximally specific hypothesis for the training instance is \n",
      "['sunny', 'warm', '?', 'strong', '?', '?']\n"
     ]
    }
   ],
   "source": [
    "for i in range(0, len(a)):\n",
    "    if a[i][num_attribute] == 'yes':\n",
    "        for j in range(0, num_attribute):\n",
    "            if hypothesis[j] == 'pi' or hypothesis[j] == a[i][j]:\n",
    "                hypothesis[j] = a[i][j]\n",
    "            else:\n",
    "                hypothesis[j] = '?'\n",
    "    print(\"\\n The hypothesis for the training instance {} is : \\n\" .format(i+1),hypothesis)\n",
    "print(\"\\n The Maximally specific hypothesis for the training instance is \")\n",
    "print(hypothesis)\n"
   ]
  }
 ],
 "metadata": {
  "colab": {
   "name": "Task1.ipynb",
   "provenance": []
  },
  "kernelspec": {
   "display_name": "Python 3",
   "language": "python",
   "name": "python3"
  },
  "language_info": {
   "codemirror_mode": {
    "name": "ipython",
    "version": 3
   },
   "file_extension": ".py",
   "mimetype": "text/x-python",
   "name": "python",
   "nbconvert_exporter": "python",
   "pygments_lexer": "ipython3",
   "version": "3.9.5"
  }
 },
 "nbformat": 4,
 "nbformat_minor": 1
}
